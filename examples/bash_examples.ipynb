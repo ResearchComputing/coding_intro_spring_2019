{
 "cells": [
  {
   "cell_type": "markdown",
   "metadata": {},
   "source": [
    "## Examples of variables"
   ]
  },
  {
   "cell_type": "code",
   "execution_count": null,
   "metadata": {},
   "outputs": [],
   "source": [
    "PI=3.14159\n",
    "  echo \"This is the value of PI: $PI\"\n",
    "name=(Andy Monaghan)\n",
    "  echo \"${name[0]} knows nothing about coding\"\n",
    "  "
   ]
  },
  {
   "cell_type": "markdown",
   "metadata": {},
   "source": [
    "## Example of arithmetic expansion"
   ]
  },
  {
   "cell_type": "code",
   "execution_count": null,
   "metadata": {},
   "outputs": [],
   "source": [
    "sqr_two=$(( 2 * 2 ))\n",
    "  echo ${sqr_two}\n",
    "\n",
    "num=6\n",
    "sqr_num=$(( $num * $num ))\n",
    "  echo ${sqr_num}"
   ]
  },
  {
   "cell_type": "markdown",
   "metadata": {},
   "source": [
    "## Example of Decisions"
   ]
  },
  {
   "cell_type": "code",
   "execution_count": null,
   "metadata": {},
   "outputs": [],
   "source": [
    "x=$(date +%M) #query minutes after the hour\n",
    "\n",
    "echo \"$x\"\n",
    "\n",
    "if [ $x -gt 30 ] ; then\n",
    "  echo \"last half of the hour\"\n",
    "elif [ $x -lt 15 ] ; then\n",
    "  echo \"first quarter of the hour\"\n",
    "else\n",
    "  echo \"we're at ${x} minutes afer the hour\"\n",
    "fi\n"
   ]
  },
  {
   "cell_type": "markdown",
   "metadata": {},
   "source": [
    "## Example of loops"
   ]
  },
  {
   "cell_type": "code",
   "execution_count": null,
   "metadata": {},
   "outputs": [],
   "source": [
    "list=\"apples oranges pears\"\n",
    "\n",
    "for v in ${list} ; do\n",
    "  echo $v\n",
    "done\n"
   ]
  },
  {
   "cell_type": "markdown",
   "metadata": {},
   "source": [
    "## Example of Arguments\n",
    "\n",
    "Note that we have a script in the same directory as this notebook called \"calcsine.sh\" which contains the following code: \n",
    "\n",
    "```\n",
    "#!/bin/bash\n",
    "# Calculate the sine of the argument.\n",
    "\n",
    "sine=$(echo \"s($1)\" | bc -l )\n",
    "    echo \"The sine of $1 is ${sine}\"\n",
    "```\n",
    "\n",
    "Now Let's run the script with an argument: "
   ]
  },
  {
   "cell_type": "code",
   "execution_count": null,
   "metadata": {},
   "outputs": [],
   "source": [
    "./calcsine.sh 0"
   ]
  },
  {
   "cell_type": "markdown",
   "metadata": {},
   "source": [
    "## Example of Functions"
   ]
  },
  {
   "cell_type": "code",
   "execution_count": null,
   "metadata": {},
   "outputs": [],
   "source": [
    "#!/bin/bash\n",
    "#create a function that echoes back the input argument\n",
    "\n",
    "gimme () {\n",
    "    echo $1 $2 \n",
    "}\n",
    "\n",
    "#now test the function\n",
    "gimme Hello\n",
    "gimme World\n",
    "gimme Hello World"
   ]
  },
  {
   "cell_type": "code",
   "execution_count": null,
   "metadata": {
    "collapsed": true
   },
   "outputs": [],
   "source": []
  }
 ],
 "metadata": {
  "kernelspec": {
   "display_name": "Bash",
   "language": "bash",
   "name": "bash"
  },
  "language_info": {
   "codemirror_mode": "shell",
   "file_extension": ".sh",
   "mimetype": "text/x-sh",
   "name": "bash"
  }
 },
 "nbformat": 4,
 "nbformat_minor": 2
}
