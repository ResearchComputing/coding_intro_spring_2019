{
 "cells": [
  {
   "cell_type": "markdown",
   "metadata": {},
   "source": [
    "## Example python script\n",
    "\n",
    "```This example code translates a phrase from one human language to another.  You can change the input language, output language and phrase as desired.```"
   ]
  },
  {
   "cell_type": "code",
   "execution_count": null,
   "metadata": {},
   "outputs": [],
   "source": [
    "#Load the translate package\n",
    "from translate import Translator\n",
    "\n",
    "#Enter languages and string to translate\n",
    "input_language=\"English\"\n",
    "output_language=\"French\"\n",
    "translate_string=\"Good morning!\"\n",
    "\n",
    "#Now translate using the Translator function!  \n",
    "translator= Translator(from_lang=input_language, to_lang=output_language)\n",
    "translation = translator.translate(translate_string)\n",
    "\n",
    "#Report results\n",
    "print (\"\")\n",
    "print (\"Translating from \" + input_language + \" to \" + output_language + \" :\")\n",
    "print (\"\")\n",
    "print (\"    \" + translate_string + \" = \" + translation)"
   ]
  },
  {
   "cell_type": "code",
   "execution_count": null,
   "metadata": {
    "collapsed": true
   },
   "outputs": [],
   "source": []
  }
 ],
 "metadata": {
  "kernelspec": {
   "display_name": "Python 3",
   "language": "python",
   "name": "python3"
  },
  "language_info": {
   "codemirror_mode": {
    "name": "ipython",
    "version": 3
   },
   "file_extension": ".py",
   "mimetype": "text/x-python",
   "name": "python",
   "nbconvert_exporter": "python",
   "pygments_lexer": "ipython3",
   "version": "3.6.3"
  }
 },
 "nbformat": 4,
 "nbformat_minor": 2
}
